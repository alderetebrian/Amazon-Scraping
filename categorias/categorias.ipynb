{
 "metadata": {
  "language_info": {
   "codemirror_mode": {
    "name": "ipython",
    "version": 3
   },
   "file_extension": ".py",
   "mimetype": "text/x-python",
   "name": "python",
   "nbconvert_exporter": "python",
   "pygments_lexer": "ipython3",
   "version": "3.9.1-final"
  },
  "orig_nbformat": 2,
  "kernelspec": {
   "name": "python3",
   "display_name": "Python 3.9.1 64-bit",
   "metadata": {
    "interpreter": {
     "hash": "097db484bd161df5b89dcb285dd5a3a695905c3edc80ae7b99a25e59cfadb8c3"
    }
   }
  }
 },
 "nbformat": 4,
 "nbformat_minor": 2,
 "cells": [
  {
   "cell_type": "code",
   "execution_count": null,
   "metadata": {},
   "outputs": [],
   "source": [
    "from bs4 import BeautifulSoup\n",
    "import requests\n",
    "import json"
   ]
  },
  {
   "cell_type": "code",
   "execution_count": null,
   "metadata": {},
   "outputs": [],
   "source": [
    "BASE_URL = 'https://www.amazon.es'"
   ]
  },
  {
   "cell_type": "code",
   "execution_count": null,
   "metadata": {},
   "outputs": [],
   "source": [
    "requests = requests.session()"
   ]
  },
  {
   "cell_type": "code",
   "execution_count": null,
   "metadata": {},
   "outputs": [],
   "source": [
    "def requests_web(url):\n",
    "    headers = {\n",
    "        'User-Agent': 'Mozilla/5.0 (Macintosh; Intel Mac OS X 10_15_4) AppleWebKit/537.36 (KHTML, like Gecko) Chrome/83.0.4103.97 Safari/537.36'\n",
    "    }\n",
    "    web = requests.get(url, headers=headers)\n",
    "    return web"
   ]
  },
  {
   "cell_type": "code",
   "execution_count": null,
   "metadata": {},
   "outputs": [],
   "source": [
    "def soup_file(get_Response):\n",
    "    soup = BeautifulSoup(get_Response.text, 'lxml')\n",
    "    return soup"
   ]
  },
  {
   "cell_type": "code",
   "execution_count": null,
   "metadata": {},
   "outputs": [],
   "source": [
    "def get_all_categorias(soup):\n",
    "    categorias_lista = soup.find_all(\"div\", class_=\"popover-grouping\")\n",
    "    return categorias_lista"
   ]
  },
  {
   "cell_type": "code",
   "execution_count": null,
   "metadata": {},
   "outputs": [],
   "source": [
    "def excluir_categorias(categorias):\n",
    "    exclusiones = [\"Amazon Prime Video\", \"Appstore para Android\", \"Amazon Business\", \"Cheques Regalo y Recargas\"]\n",
    "    categorias_info = []\n",
    "    for categoria in categorias:\n",
    "        categorias_terminado = {}\n",
    "        titulo = categoria.find(\"h2\")\n",
    "        validador = any(titulo.text in exclusion for exclusion in exclusiones)\n",
    "        if validador:\n",
    "            continue\n",
    "        else:\n",
    "            categorias_validas = titulo.parent\n",
    "            categorias_validas_titulo = categorias_validas.find(\"h2\").text\n",
    "            links_list = categorias_validas.find_all(\"a\")\n",
    "            categorias_info.append(categorias_validas)\n",
    "    return categorias_info\n"
   ]
  },
  {
   "cell_type": "code",
   "execution_count": null,
   "metadata": {},
   "outputs": [],
   "source": [
    "def categorias_info():\n",
    "    web = requests_web('https://www.amazon.es/gp/site-directory?ref_=nav_em__fullstore_0_1_1_35')\n",
    "    soup = soup_file(web)\n",
    "    sub_categoria = []\n",
    "    categorias_infos = []\n",
    "    categorias_terminado = {}\n",
    "    all_categorias = get_all_categorias(soup)\n",
    "    categorias = excluir_categorias(all_categorias)\n",
    "    for categoria in categorias:\n",
    "        titulo = categoria.find(\"h2\").text\n",
    "        links_list = categoria.find_all(\"a\") \n",
    "        sub_categoria = get_all_sub_categorias(links_list)\n",
    "\n",
    "        sub_categoria_2 = []\n",
    "        for link in sub_categoria:\n",
    "            sub_categoria_2 = get_sub_categoria(link['link'])\n",
    "\n",
    "    categorias_terminado['titulo_principal'] = titulo\n",
    "    categorias_terminado['sub_categoria'] = sub_categoria\n",
    "    categorias_terminado['sub_categoria']['sub_categoria_2'] = sub_categoria_2\n",
    "    categorias_infos.append(categorias_terminado)\n",
    "    return categorias_infos"
   ]
  },
  {
   "cell_type": "code",
   "execution_count": null,
   "metadata": {},
   "outputs": [],
   "source": [
    "def get_all_sub_categorias(links_list):\n",
    "    links_info = []\n",
    "    for link in links_list:\n",
    "        subcategoria = {}\n",
    "        subcategoria['titulo'] = link.text\n",
    "        subcategoria['link'] = BASE_URL + link['href']\n",
    "        links_info.append(subcategoria)\n",
    "    return links_info"
   ]
  },
  {
   "cell_type": "code",
   "execution_count": null,
   "metadata": {
    "tags": [
     "outputPrepend"
    ]
   },
   "outputs": [],
   "source": [
    "categorias_info()"
   ]
  },
  {
   "cell_type": "code",
   "execution_count": null,
   "metadata": {},
   "outputs": [],
   "source": [
    "def get_sub_categoria(url):\n",
    "    web = requests_web(url)\n",
    "    soup = soup_file(web)\n",
    "    try:\n",
    "        categorias = soup.find(\"div\", class_=\"left_nav browseBox\")\n",
    "        categorias_titulos = categorias.find_all(\"h3\")\n",
    "        sub_categorias = categorias.find_all(\"a\")\n",
    "        sub_categorias_info = []\n",
    "        for sub_categoria in sub_categorias:\n",
    "            json_data = {}\n",
    "            json_data['titulo'] = sub_categoria.text\n",
    "            json_data['link'] = BASE_URL + sub_categoria['href']\n",
    "            sub_categorias_info.append(json_data)\n",
    "        print(sub_categorias_info)\n",
    "    except:\n",
    "        print(\"error\")"
   ]
  },
  {
   "cell_type": "code",
   "execution_count": null,
   "metadata": {},
   "outputs": [],
   "source": [
    "def get_departamento_categorias(url):\n",
    "    web = requests_web(url)\n",
    "    soup = soup_file(web)\n",
    "    categoria_base = soup.find_all(\"span\", class_=\"a-size-base a-color-base a-text-bold\")\n",
    "    for categorias in categoria_base:\n",
    "        categorias_titulo = categorias.text\n",
    "        if categorias_titulo == 'Departamento':\n",
    "            categoria_padre = categorias.parent.parent\n",
    "            sub_categorias = categoria_padre.find_all(\"a\")\n",
    "            sub_categorias_info = []\n",
    "            for sub_categoria in sub_categorias:\n",
    "                json_data = {}\n",
    "                json_data['titulo'] = sub_categoria.text.strip()\n",
    "                json_data['link'] = BASE_URL + sub_categoria['href']\n",
    "                sub_categorias_info.append(json_data)\n",
    "            print(sub_categorias_info)"
   ]
  },
  {
   "cell_type": "code",
   "execution_count": null,
   "metadata": {},
   "outputs": [],
   "source": [
    "#left_nav browseBox\n",
    "\n",
    "web = requests.get(\"https://www.amazon.es/fotografia-videocamaras/b?ie=UTF8&node=664660031&ref_=sd_allcat_pcam\",headers=headers)\n",
    "\n",
    "soup = BeautifulSoup(web.text,\"lxml\")\n",
    "\n",
    "categorias = soup.find(\"div\", class_=\"left_nav browseBox\")\n",
    "categorias_titulos = categorias.find_all(\"h3\")\n",
    "sub_categorias = categorias.find_all(\"a\")\n",
    "\n",
    "for sub_categoria in sub_categorias:\n",
    "    #print(sub_categoria['href'])\n",
    "    print(sub_categoria.text)\n",
    "'''\n",
    "for titulo in categorias_titulos:\n",
    "    print(titulo.text)\n",
    "'''\n",
    "sub_categorias"
   ]
  },
  {
   "cell_type": "code",
   "execution_count": 96,
   "metadata": {},
   "outputs": [
    {
     "output_type": "stream",
     "name": "stdout",
     "text": [
      "<function prueba at 0x0000022B04933EE0>\n"
     ]
    }
   ],
   "source": [
    "def prueba():\n",
    "    yield{\n",
    "        'texto': 'hola',\n",
    "        'otro texto': {'titulo': 'prueba'}\n",
    "        }\n",
    "print(prueba)"
   ]
  },
  {
   "cell_type": "code",
   "execution_count": null,
   "metadata": {},
   "outputs": [],
   "source": []
  },
  {
   "cell_type": "code",
   "execution_count": null,
   "metadata": {},
   "outputs": [],
   "source": []
  }
 ]
}